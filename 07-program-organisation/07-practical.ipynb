{
 "cells": [
  {
   "cell_type": "markdown",
   "metadata": {},
   "source": [
    "##### College of Engineering, Construction and Living Sciences<br>Bachelor of Information Technology<br>IN608: Intermediate Application Development Concepts<br>Level 6, Credits 15<br><br>Due Date: 29/03/2021 at 5pm\n",
    "\n",
    "# Exceptions and Exception Handling\n",
    "\n",
    "In this practical, you will complete a series of tasks covering today's lecture. This practical is worth 1% of the final mark for the IN608: Intermediate Application Development Concepts course.\n",
    "\n",
    "Before you start, in your practicals repository, create a new branch called **07-practical**."
   ]
  },
  {
   "cell_type": "markdown",
   "metadata": {},
   "source": [
    "### Namespaces\n",
    "**Question 1:** Answer the questions in the code snippet below.\n"
   ]
  },
  {
   "cell_type": "code",
   "execution_count": null,
   "metadata": {},
   "outputs": [],
   "source": [
    "st0 = 'cats'\n",
    "st1 = 'dogs'\n",
    "counter = 23\n",
    "\n",
    "def animals():\n",
    "    animals = ['ducks', 'sheep', 'goats', 'dogs']\n",
    "    counter = 0\n",
    "    for a in animals:  # Q1: What namespace is animals in right now?\n",
    "        if a == st1:   # Q2: What namespace is st1 in right now?\n",
    "            a = a.upper()\n",
    "        counter += 1   # Q3: What namespace is counter in here?\n",
    "        print(a)\n",
    " \n",
    "animals()  # Q4: What namespace is animals in here?\n",
    "print(counter)  # Q5: What namespace is counter in here?\n",
    "print(a) # Q6: Why does this raise an exception? \n",
    "\n",
    "# Put your answers to the questions below.\n",
    "#Q1:\n",
    "#Q2:\n",
    "#Q3:\n",
    "#Q4:\n",
    "#Q5:\n",
    "#Q6:"
   ]
  },
  {
   "cell_type": "markdown",
   "metadata": {},
   "source": [
    "**Question 2:** Answer the questions in the code snippet below.\n",
    "    "
   ]
  },
  {
   "cell_type": "code",
   "execution_count": null,
   "metadata": {},
   "outputs": [],
   "source": [
    "num = 7\n",
    "\n",
    "def func():\n",
    "    count = 10\n",
    "    def print_seven():\n",
    "        extra = 2\n",
    "        for _ in range(count + extra): # A\n",
    "            print(num) # B\n",
    "    return print_seven\n",
    "\n",
    "f = func()\n",
    "f()\n",
    "\n",
    "# Answer the questions below.\n",
    "\n",
    "#Q1: At the line marked A, describe how the interpreter finds the name count.\n",
    "#Q2: At the line marked A, describe how the interpreter finds the name extra.\n",
    "#Q3:  At the line marked B, describe how the interpreter finds the name num.\n",
    "\n"
   ]
  },
  {
   "cell_type": "markdown",
   "metadata": {},
   "source": [
    "## Stop here. We will discuss the answers in class.\n",
    "\n",
    "\n",
    "## <ins>Homework</ins>\n",
    "\n",
    "### Modules, Packages, and Imports\n",
    "**Question 3:** From the course materials repo, copy the `07-practical-code` directory into your `07-practical` directory.\n",
    "Follow the directions in the `main.py` file contained within. Commit your modified code to your `07-practical` branch."
   ]
  },
  {
   "cell_type": "markdown",
   "metadata": {},
   "source": [
    "# Submission\n",
    "Create a new pull request and assign **tclark** to review your submission.\n",
    "\n",
    "**Note:** Please don't merge your own pull request."
   ]
  }
 ],
 "metadata": {
  "kernelspec": {
   "display_name": "Python 3",
   "language": "python",
   "name": "python3"
  },
  "language_info": {
   "codemirror_mode": {
    "name": "ipython",
    "version": 3
   },
   "file_extension": ".py",
   "mimetype": "text/x-python",
   "name": "python",
   "nbconvert_exporter": "python",
   "pygments_lexer": "ipython3",
   "version": "3.9.1"
  }
 },
 "nbformat": 4,
 "nbformat_minor": 4
}
