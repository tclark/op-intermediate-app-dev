{
 "cells": [
  {
   "cell_type": "markdown",
   "metadata": {},
   "source": [
    "##### College of Engineering, Construction and Living Sciences<br>Bachelor of Information Technology<br>IN608: Intermediate Application Development Concepts<br>Level 6, Credits 15<br><br>Due Date: 05/05/2021 at 5pm\n",
    "\n",
    "# Iterator Pattern\n",
    "\n",
    "In this practical, you will complete a series of tasks covering today's lecture. .\n",
    "\n",
    "Before you start, in your practicals repository, create a new branch called **12-practical**."
   ]
  },
  {
   "cell_type": "markdown",
   "metadata": {},
   "source": [
    "### Built in Iterables/Iterators\n",
    "Many of the commonly used Python types implement the Iterator pattern.\n",
    "\n",
    "**Question 1:** Explain the output below. "
   ]
  },
  {
   "cell_type": "code",
   "execution_count": null,
   "metadata": {},
   "outputs": [],
   "source": [
    "lst = [1, 2, 3, 4, 5]\n",
    "\n",
    "itr0 = iter(lst)\n",
    "itr1 = iter(lst)\n",
    "print(f'List iterators the same: {itr0 is itr1}')\n",
    "\n",
    "itr2 = iter(itr1) # What if we call iter() on an Iterator?\n",
    "print(f'List iterators the same: {itr2 is itr1}')\n",
    "\n",
    "print(next(itr0))\n",
    "print(next(itr0))\n",
    "\n",
    "print(next(itr1))\n",
    "\n",
    "print(next(itr2))\n",
    "\n",
    "# make sure you have a \"testfile\" in the same directory as your notebook. Put a few lines of text in it.\n",
    "with open('testfile') as file:\n",
    "    file_itr0 = iter(file)\n",
    "    file_itr1 = iter(file)\n",
    "    print(f'File iterators the same: {file_itr0 is file_itr1}')\n",
    "    print(f'File iterators the same as the file object: {file_itr0 is file}')\n",
    "    # What's going on here?    "
   ]
  },
  {
   "cell_type": "markdown",
   "metadata": {},
   "source": [
    "### Iterating on files\n",
    "**Question 2:** Explain the output of the code below."
   ]
  },
  {
   "cell_type": "code",
   "execution_count": null,
   "metadata": {},
   "outputs": [],
   "source": [
    "with open('testfile') as file:\n",
    "    while True:\n",
    "        line = next(file)\n",
    "        print(line[:-1])\n",
    "        if line == 'cat\\n':\n",
    "            print('Found a cat.')\n",
    "            break\n",
    "    \n",
    "    for line in file:\n",
    "        print(line[:-1])\n",
    "\n",
    "\n"
   ]
  },
  {
   "cell_type": "markdown",
   "metadata": {},
   "source": [
    "### A different sort of Iterator\n",
    "**Question 3:** Explain the output of the code below. Then modify the code in the `for` loop to produce the expected output described below."
   ]
  },
  {
   "cell_type": "code",
   "execution_count": null,
   "metadata": {},
   "outputs": [],
   "source": [
    "for i in range(5): # What does this tell you about range()?\n",
    "    print(i)\n",
    "print('\\n\\n') # just making some white space for later  \n",
    "print(type(range(5)))\n",
    "print(type(iter(range(5))))\n",
    "print('\\n\\n') # more white space\n",
    "\n",
    "saved_range = range(3)\n",
    "itr0 = iter(saved_range)\n",
    "itr1 = iter(saved_range)\n",
    "\n",
    "for i in itr0:  # Can you even do that?\n",
    "    print(i)\n",
    "    for j in itr1:\n",
    "        print(f'    {j}')\n",
    "    \n",
    "# new expected output:\n",
    "#  0\n",
    "#      0\n",
    "#  1\n",
    "#      1\n",
    "#  2\n",
    "#      2"
   ]
  },
  {
   "cell_type": "markdown",
   "metadata": {},
   "source": [
    "## Stop here. We will discuss the answer in class.\n",
    "\n",
    "\n",
    "## <ins>Homework</ins>\n",
    "\n",
    "\n",
    "\n",
    "**Question 4:** Define an  Iterable class called `CrazyList` that just stores a list of values. Define an Iterator, `CrazyListIterator` that returns randomly chosen values from a `CrazyList`. However, keep track of how many values have been returned so that the Iterator stops after producing the number of values in the original `CrazyList`. Demonstrate using `CrazyList` in a `for` loop.\n"
   ]
  },
  {
   "cell_type": "code",
   "execution_count": null,
   "metadata": {},
   "outputs": [],
   "source": [
    "class CrazyList:\n",
    "    pass\n",
    "\n",
    "class CrazyListIterator:\n",
    "    pass"
   ]
  },
  {
   "cell_type": "markdown",
   "metadata": {},
   "source": [
    "# Submission\n",
    "Create a new pull request and assign **tclark** to review your submission.\n",
    "\n",
    "**Note:** Please don't merge your own pull request."
   ]
  }
 ],
 "metadata": {
  "kernelspec": {
   "display_name": "Python 3",
   "language": "python",
   "name": "python3"
  },
  "language_info": {
   "codemirror_mode": {
    "name": "ipython",
    "version": 3
   },
   "file_extension": ".py",
   "mimetype": "text/x-python",
   "name": "python",
   "nbconvert_exporter": "python",
   "pygments_lexer": "ipython3",
   "version": "3.9.1"
  }
 },
 "nbformat": 4,
 "nbformat_minor": 4
}
