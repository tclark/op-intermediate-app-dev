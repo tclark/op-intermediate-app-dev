{
 "cells": [
  {
   "cell_type": "markdown",
   "metadata": {},
   "source": [
    "##### College of Engineering, Construction and Living Sciences<br>Bachelor of Information Technology<br>IN608: Intermediate Application Development Concepts<br>Level 6, Credits 15<br><br>Due Date: 15/03/2021 at 5pm\n",
    "\n",
    "# Python 3: Abstract Data Types\n",
    "\n",
    "In this practical, you will complete a series of tasks covering today's lecture. This practical is worth 0.5% of the final mark for the IN608: Intermediate Application Development Concepts course.\n",
    "\n",
    "Before you start, in your practicals repository, create a new branch called **03-practical**.\n",
    "\n",
    "## <ins>Programming Activity</ins>\n",
    "\n",
    "### Stack Class\n",
    "**Question 1:** Implement the `push`, `pop`, `empty`, `peek`, `size` & `display` methods in the `Stack` class. `size` method returns the length of `stack` & `display` method returns `stack`. \n",
    "\n",
    "Use the `Stack` object provided in the `main` function to display the expected output."
   ]
  },
  {
   "cell_type": "code",
   "execution_count": null,
   "metadata": {},
   "outputs": [],
   "source": [
    "class Stack:\n",
    "    def __init__(self):\n",
    "        self.stack = []\n",
    "\n",
    "    def push(self, item):\n",
    "        pass\n",
    "\n",
    "    def pop(self):\n",
    "        pass\n",
    "\n",
    "    def peek(self):\n",
    "        pass\n",
    "    \n",
    "    def empty(self):\n",
    "        pass\n",
    "          \n",
    "    def size(self):\n",
    "        pass\n",
    "    \n",
    "    def display(self):\n",
    "        pass\n",
    "    \n",
    "def main():\n",
    "    stack = Stack()\n",
    "    stack.push('Introductory App Dev Concepts')\n",
    "    stack.push('Intermediate App Dev Concepts')\n",
    "    stack.push('Advanced App Dev Concepts')\n",
    "    \n",
    "    # Write your solution here\n",
    "\n",
    "if __name__ == '__main__':\n",
    "    main()\n",
    "    \n",
    "# Expected output:\n",
    "\n",
    "# ['Introductory App Dev Concepts', 'Intermediate App Dev Concepts']\n",
    "# Intermediate App Dev Concepts is at the top of the stack\n",
    "# There are 2 item(s) in the stack"
   ]
  },
  {
   "cell_type": "markdown",
   "metadata": {},
   "source": [
    "### Queue Class\n",
    "**Question 2:** Implement the `enqueue`, `dequeue`, `peek`, `empty`, `length` & `display` methods in the `Queue` class. `length` method returns the length of `queue` & `display` method returns `queue`. \n",
    "\n",
    "Use the `Queue` object provided in the `main` function to display the expected output."
   ]
  },
  {
   "cell_type": "code",
   "execution_count": null,
   "metadata": {},
   "outputs": [],
   "source": [
    "from collections import deque\n",
    "\n",
    "class Queue:\n",
    "    def __init__(self):\n",
    "        self.queue = deque([])\n",
    "\n",
    "    def enqueue(self, item):\n",
    "        pass\n",
    "\n",
    "    def dequeue(self):\n",
    "        pass\n",
    "\n",
    "    def peek(self):\n",
    "        pass\n",
    "    \n",
    "    def empty(self):\n",
    "        pass\n",
    "    \n",
    "    def length(self):\n",
    "        pass\n",
    "    \n",
    "    def display(self):\n",
    "        pass\n",
    "\n",
    "def main():\n",
    "    queue = Queue()\n",
    "    queue.enqueue('Introductory App Dev Concepts')\n",
    "    queue.enqueue('Intermediate App Dev Concepts')\n",
    "    queue.enqueue('Advanced App Dev Concepts')\n",
    "    \n",
    "    # Write your solution here\n",
    "\n",
    "if __name__ == '__main__':\n",
    "    main()\n",
    "    \n",
    "# Expected output:\n",
    "    \n",
    "# There are 3 item(s) in the queue\n",
    "# ['Intermediate App Dev Concepts', 'Advanced App Dev Concepts']"
   ]
  },
  {
   "cell_type": "markdown",
   "metadata": {},
   "source": [
    "## Stop Here\n",
    "We will discuss these questions in class.\n",
    "\n",
    "## <ins>Homework</ins>\n",
    "\n",
    "### Stack Class\n",
    "**Question 3:** Use the `Stack` class above and the `input` function to reverse an input provided by a user.\n",
    "\n",
    "Resource: https://docs.python.org/3/library/functions.html#input"
   ]
  },
  {
   "cell_type": "code",
   "execution_count": null,
   "metadata": {},
   "outputs": [],
   "source": [
    "# Write your solution here"
   ]
  },
  {
   "cell_type": "markdown",
   "metadata": {},
   "source": [
    "### Queue Class\n",
    "**Question 4:** Research & show an example of the implementation of a queue using two stacks, i.e., your Queue class will use two stacks to store its data. Please comment your code as appropriate. It helps us understand your implementation."
   ]
  },
  {
   "cell_type": "code",
   "execution_count": null,
   "metadata": {},
   "outputs": [],
   "source": [
    "# Write your solution here"
   ]
  },
  {
   "cell_type": "markdown",
   "metadata": {},
   "source": [
    "### Circular Queue\n",
    "**Question 5:** Research & show an example of the implementation of a circular queue. Your implementation should prevent overwriting of data. Please comment your code as appropriate. It helps us understand your implementation."
   ]
  },
  {
   "cell_type": "code",
   "execution_count": null,
   "metadata": {
    "tags": []
   },
   "outputs": [],
   "source": [
    "# Write your solution here"
   ]
  },
  {
   "cell_type": "markdown",
   "metadata": {},
   "source": [
    "### Graph\n",
    "**Question 6:** Implement the methods in the Graph class below. Please comment your code as appropriate. It helps us understand your implementation."
   ]
  },
  {
   "cell_type": "code",
   "execution_count": null,
   "metadata": {
    "tags": []
   },
   "outputs": [],
   "source": [
    "class Graph:\n",
    "    def __init__(self):\n",
    "        self.nodes = set()\n",
    "        self.edges = []\n",
    "        \n",
    "    def add_node(self, node_value):\n",
    "        pass\n",
    "    \n",
    "    def add_edge(self, node1, node2):\n",
    "        # Create an edge between node1 and node2.\n",
    "        # An edge is just a tuple with two node values in it.\n",
    "        # Duplicate edges are allowed.\n",
    "        pass\n",
    "    \n",
    "    def remove_node(self, node_value):\n",
    "        # Don't forget to remove edges!\n",
    "        pass\n",
    "    \n",
    "    def remove_edge(self, node1, node2):\n",
    "        # remove one edge between node1 and node2\n",
    "        pass\n",
    "    \n",
    "    def get_node(self, node_value):\n",
    "        # Return a tuple whose first element is the node value\n",
    "        # and whose second value is a list of edges connected \n",
    "        # to the node\n",
    "        pass\n",
    "    \n",
    "def main():\n",
    "    graph = Graph()\n",
    "    graph.add_node('a')\n",
    "    graph.add_node('b')\n",
    "    graph.add_node('c')\n",
    "    graph.add_edge('a', 'c')\n",
    "    graph.add_edge('b', 'c')\n",
    "    print(graph.get_node('a'))\n",
    "    graph.remove_node('b')\n",
    "    print(graph.get_node('c'))\n",
    "    \n",
    "if __name__ == '__main__':\n",
    "    main()\n",
    "    \n",
    "# Expected output:\n",
    "    \n",
    "# ('a', [('a', 'c')])\n",
    "# ('c', [('a', 'c')])  "
   ]
  },
  {
   "cell_type": "markdown",
   "metadata": {},
   "source": [
    "# Submission\n",
    "Create a new pull request and assign **tclark** to review your practical submission.\n",
    "\n",
    "**Note:** Please don't merge your own pull request."
   ]
  },
  {
   "cell_type": "code",
   "execution_count": null,
   "metadata": {},
   "outputs": [],
   "source": []
  }
 ],
 "metadata": {
  "kernelspec": {
   "display_name": "Python 3",
   "language": "python",
   "name": "python3"
  },
  "language_info": {
   "codemirror_mode": {
    "name": "ipython",
    "version": 3
   },
   "file_extension": ".py",
   "mimetype": "text/x-python",
   "name": "python",
   "nbconvert_exporter": "python",
   "pygments_lexer": "ipython3",
   "version": "3.9.1"
  }
 },
 "nbformat": 4,
 "nbformat_minor": 4
}
