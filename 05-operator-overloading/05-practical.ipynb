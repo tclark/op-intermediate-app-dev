{
 "cells": [
  {
   "cell_type": "markdown",
   "metadata": {},
   "source": [
    "##### College of Engineering, Construction and Living Sciences<br>Bachelor of Information Technology<br>IN608: Intermediate Application Development Concepts<br>Level 6, Credits 15<br><br>Due Date: 23/03/2021 at 5pm\n",
    "\n",
    "# Functional Programming\n",
    "\n",
    "In this practical, you will complete a series of tasks covering today's lecture. This practical is worth 1% of the final mark for the IN608: Intermediate Application Development Concepts course.\n",
    "\n",
    "Before you start, in your practicals repository, create a new branch called **05-practical**."
   ]
  },
  {
   "cell_type": "markdown",
   "metadata": {},
   "source": [
    "### Pure functions\n",
    "**Question 1:** The function `doubler` below is **not** a pure function. Explain why. Then, write the function `pure_doubler` below the returns the same results but in a purely functional way"
   ]
  },
  {
   "cell_type": "code",
   "execution_count": null,
   "metadata": {},
   "outputs": [],
   "source": [
    "def doubler(ls):  # note that ls is a list\n",
    "    for i in range(len(ls)):\n",
    "        ls[i] = ls[i] * 2\n",
    "    return ls    \n",
    "\n",
    "def pure_doubler(ls):\n",
    "    pass\n",
    "\n",
    "nums = [1, 2, 3, 4]\n",
    "print(doubler(nums))\n",
    "print(nums)\n",
    "\n",
    "pure_nums = [1, 2, 3, 4]\n",
    "print(pure_doubler(pure_nums))\n",
    "print(pure_nums)\n",
    "\n",
    "# 18.33"
   ]
  },
  {
   "cell_type": "markdown",
   "metadata": {},
   "source": [
    "### First class functions\n",
    "**Question 2:** The function middle takes a string and returns the string produced by removing its first and last characters. Write the body of `upper_arg` so that it takes a function of a string (like `middle`) and returns a new function that first converts its argument to uppercase and then calls the original function. So in the code below, calling MIDDLE('cats') is like calling middle('CATS')."
   ]
  },
  {
   "cell_type": "code",
   "execution_count": null,
   "metadata": {},
   "outputs": [],
   "source": [
    "def middle(s):\n",
    "    return s[1:-1]\n",
    "\n",
    "def upper_arg(fn):\n",
    "    pass\n",
    "\n",
    "\n",
    "print(middle('cats'))\n",
    "MIDDLE = upper_arg(middle)\n",
    "print(MIDDLE('cats'))\n",
    "\n",
    "# Exppected output:\n",
    "# at   \n",
    "# AT"
   ]
  },
  {
   "cell_type": "markdown",
   "metadata": {},
   "source": [
    "### Lambda\n",
    "**Question 3:** Create a `lambda` function called `fahrenheit_to_celsius` which converts its argument to celcius. Round the output to the nearest two demcial places using the `round` function."
   ]
  },
  {
   "cell_type": "code",
   "execution_count": null,
   "metadata": {},
   "outputs": [],
   "source": [
    "fahrenheit_to_celsius = # Write your solution here\n",
    "print(fahrenheit_to_celsius(64.99))\n",
    "\n",
    "# Expected output:\n",
    "\n",
    "# 18.33"
   ]
  },
  {
   "cell_type": "markdown",
   "metadata": {},
   "source": [
    "## Stop here. We will discuss the answers in class.\n",
    "\n",
    "\n",
    "## <ins>Homework</ins>\n",
    "\n",
    "### List Comprehension\n",
    "**Question 4:** Consider the following 3x3 matrix (3 lists of length 3). Create a list comprehension which returns a transpose `matrix`. Use the list comprehension to display the expected output."
   ]
  },
  {
   "cell_type": "code",
   "execution_count": null,
   "metadata": {},
   "outputs": [],
   "source": [
    "matrix = [\n",
    "    [1, 2, 3],\n",
    "    [4, 5, 6,],\n",
    "    [7, 8, 9]\n",
    "]\n",
    "\n",
    "# Write your solution here\n",
    "\n",
    "# Expected output:\n",
    "\n",
    "# [[1, 4, 7], [2, 5, 8], [3, 6, 9]]"
   ]
  },
  {
   "cell_type": "markdown",
   "metadata": {},
   "source": [
    "### Set Comprehension\n",
    "**Question 5:** Create a set comprehension which returns the `breed` of dogs who are not `aggressive`. Use the set comprehension to display the expected output."
   ]
  },
  {
   "cell_type": "code",
   "execution_count": null,
   "metadata": {},
   "outputs": [],
   "source": [
    "class Dog:\n",
    "    def __init__(self, breed, is_aggressive):\n",
    "        self.breed = breed\n",
    "        self.aggressive = is_aggressive\n",
    "\n",
    "def main():\n",
    "    dogs = [\n",
    "        Dog('American Pit Bull Terrier', True),\n",
    "        Dog('Cavalier King Charles Spaniel', False),\n",
    "        Dog('Cavalier King Charles Spaniel', False),\n",
    "        Dog('Labrador Retriever', False),\n",
    "        Dog('Rottweiler', True),\n",
    "        Dog('Shih Tzu', False)\n",
    "    ]\n",
    "\n",
    "    # Write your solution here\n",
    "\n",
    "if __name__ == '__main__':\n",
    "    main()\n",
    "\n",
    "# Expect output:\n",
    "\n",
    "# {'Shih Tzu', 'Labrador Retriever', 'Cavalier King Charles Spaniel'}"
   ]
  },
  {
   "cell_type": "markdown",
   "metadata": {},
   "source": [
    "### Dictionary Comprehension\n",
    "**Question 6:** Create a dictionary comprehension which converts each value in `fahrenheit` into celsius. Round each value to the nearest two decimal places using the `round` function. Use the dictionary comprehension to display the expected output."
   ]
  },
  {
   "cell_type": "code",
   "execution_count": null,
   "metadata": {},
   "outputs": [],
   "source": [
    "fahrenheit = {'temp_one': 65, 'temp_two': 45, 'temp_three': 25, 'temp_four': 5}\n",
    "\n",
    "# Write your solution here\n",
    "\n",
    "# Expected output:\n",
    "\n",
    "# {'temp_one': 18.33, 'temp_two': 7.22, 'temp_three': -3.89, 'temp_four': -15.0}"
   ]
  },
  {
   "cell_type": "markdown",
   "metadata": {},
   "source": [
    "### Map\n",
    "**Question 7:** Using the `uuid4` function, generate a random UUID called `rand_uuid`. Use `rand_uuid`, `map` function & `lambda` function to return an uppercase `rand_uuid`. \n",
    "\n",
    "Note: your outputs will be different to what is shown below."
   ]
  },
  {
   "cell_type": "code",
   "execution_count": null,
   "metadata": {},
   "outputs": [],
   "source": [
    "from uuid import uuid4\n",
    "\n",
    "rand_uuid = # Write your solution here\n",
    "upper_rand_uuid = ''.join(map('''Write your lambda function here'''))\n",
    "print(f'Random UUID: {rand_uuid}')\n",
    "print(f'Uppercase random UUID: {upper_rand_uuid}')\n",
    "\n",
    "# Expected output:\n",
    "\n",
    "# Random UUID: 58a641f1-ac6a-4a5d-ab31-302af8b2dfc4\n",
    "# Uppercase random UUID: 58A641F1-AC6A-4A5D-AB31-302AF8B2DFC4"
   ]
  },
  {
   "cell_type": "markdown",
   "metadata": {},
   "source": [
    "### Filter\n",
    "**Question 8:** Using the `randrange` function, create a list comprehension called `exam_scores` which generates 10 numbers between 1 & 100. Use `exam_scores`, `filter` function & `lambda` function to return all items ≥ 80. \n",
    "\n",
    "Note: your outputs will be different to what is shown below."
   ]
  },
  {
   "cell_type": "code",
   "execution_count": null,
   "metadata": {},
   "outputs": [],
   "source": [
    "from random import randrange\n",
    "\n",
    "exam_scores = # Write your solution here\n",
    "a_grade_range_exam_scores = filter('''Write your lambda function here''')\n",
    "print(f'Exam scores: {exam_scores}')\n",
    "print(f'A grade range exam scores: {list(a_grade_range_exam_scores)}')\n",
    "\n",
    "# Expected output:\n",
    "\n",
    "# Exam scores: [52, 51, 82, 11, 16, 19, 10, 91, 59, 58]\n",
    "# A grade range exam scores: [82, 91]"
   ]
  },
  {
   "cell_type": "markdown",
   "metadata": {},
   "source": [
    "### Reduce\n",
    "**Question 9:** Using the `randrange` function, create a list comprehension called `rand_nums` which generates five numbers between 1 & 100. Use `rand_nums`, `reduce` function & `lambda` function to return the sum of `rand_nums`. \n",
    "\n",
    "Note: your outputs will be different to what is shown below."
   ]
  },
  {
   "cell_type": "code",
   "execution_count": null,
   "metadata": {},
   "outputs": [],
   "source": [
    "from functools import reduce\n",
    "from random import randrange\n",
    "\n",
    "rand_nums = # Write your solution here\n",
    "sum_rand_nums = reduce('''Write your lambda function here''')\n",
    "print(f'Random numbers: {rand_nums}')\n",
    "print(f'Sum of random numbers: {sum_rand_nums}') \n",
    "\n",
    "# Expected output:\n",
    "\n",
    "# Random numbers: [25, 65, 75, 9, 57]\n",
    "# Sum of random numbers: 231"
   ]
  },
  {
   "cell_type": "markdown",
   "metadata": {},
   "source": [
    "### Partial\n",
    "**Question 10:** `randrange(1, 101)` returns random numbers between 1 and 100. Using partial, produce a function `highrange` so that `highrange(101)` produces values from 70 to 100."
   ]
  },
  {
   "cell_type": "code",
   "execution_count": null,
   "metadata": {},
   "outputs": [],
   "source": [
    "from random import randrange\n",
    "from functools import partial\n",
    "\n",
    "# Write your solution below."
   ]
  },
  {
   "cell_type": "markdown",
   "metadata": {},
   "source": [
    "# Submission\n",
    "Create a new pull request and assign **tclark** to review your submission.\n",
    "\n",
    "**Note:** Please don't merge your own pull request."
   ]
  },
  {
   "cell_type": "code",
   "execution_count": null,
   "metadata": {},
   "outputs": [],
   "source": []
  }
 ],
 "metadata": {
  "kernelspec": {
   "display_name": "Python 3",
   "language": "python",
   "name": "python3"
  },
  "language_info": {
   "codemirror_mode": {
    "name": "ipython",
    "version": 3
   },
   "file_extension": ".py",
   "mimetype": "text/x-python",
   "name": "python",
   "nbconvert_exporter": "python",
   "pygments_lexer": "ipython3",
   "version": "3.9.1"
  }
 },
 "nbformat": 4,
 "nbformat_minor": 4
}
