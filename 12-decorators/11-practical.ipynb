{
 "cells": [
  {
   "cell_type": "markdown",
   "metadata": {},
   "source": [
    "##### College of Engineering, Construction and Living Sciences<br>Bachelor of Information Technology<br>IN608: Intermediate Application Development Concepts<br>Level 6, Credits 15<br><br>Due Date: 03/05/2021 at 5pm\n",
    "\n",
    "# DecoratorPattern\n",
    "\n",
    "In this practical, you will complete a series of tasks covering today's lecture. .\n",
    "\n",
    "Before you start, in your practicals repository, create a new branch called **11-practical**."
   ]
  },
  {
   "cell_type": "markdown",
   "metadata": {},
   "source": [
    "### Dynamic decoration\n",
    "**Question 1:** Add code to the cell below that will randomly choose to decorate `basic` with either\n",
    "the `ReversingDecorator` or the `UppercaseDecorator`. You may want to import `random`."
   ]
  },
  {
   "cell_type": "code",
   "execution_count": null,
   "metadata": {},
   "outputs": [],
   "source": [
    "from decodemo import ConcreteMessenger, ReversingDecorator, UppercaseDecorator\n",
    "\n",
    "\n",
    "basic = ConcreteMessenger()\n",
    "print(basic.say_hello())\n",
    "decorated = None\n",
    "\n",
    "# add your code here\n",
    "\n",
    "\n",
    "\n",
    "print(decorated.say_hello())    "
   ]
  },
  {
   "cell_type": "markdown",
   "metadata": {},
   "source": [
    "### Define a decorator\n",
    "**Question 2:** Define your own decorator class, `SilentDecorator` that inherits from `AbstractDecorator` in `decodemo.py`. This decorator shall modify the behaviour of any methods returning strings so that they return empty strings."
   ]
  },
  {
   "cell_type": "code",
   "execution_count": null,
   "metadata": {},
   "outputs": [],
   "source": [
    "\n",
    "\n",
    "\n",
    "\n",
    "\n"
   ]
  },
  {
   "cell_type": "markdown",
   "metadata": {},
   "source": [
    "## Stop here. We will discuss the answer in class.\n",
    "\n",
    "\n",
    "## <ins>Homework</ins>\n",
    "\n",
    "### More decorators\n",
    "**Question 3:** Write a Python function decorator that implements the `UppercaseDecorator` idea above. In this case, though, it doesn't wrap an entire class, it just can decorate any function that returns a string. This new version has an added twist: Using something like a pseudorandom number, only uppercase the return value about half the time. Put your code in a file named `mydecorators.py`. Include an `if __name__ == '__main__'` block that demonstrates the use of your decorator.\n",
    "\n",
    "**Question 4:** For this question you will write a function decorator that takes an integer argument. This decorator should be applicable to functions that return integers. Your decorator will produce a function that \n",
    "takes the original functions return value, multiply it by the value supplied as an argument to the decorator, and return that. Don't forget to handle possible arguments to the decorated function. Put this code in the same file you created for question 3.\n",
    "\n",
    "\n"
   ]
  },
  {
   "cell_type": "markdown",
   "metadata": {},
   "source": [
    "# Submission\n",
    "Create a new pull request and assign **tclark** to review your submission.\n",
    "\n",
    "**Note:** Please don't merge your own pull request."
   ]
  }
 ],
 "metadata": {
  "kernelspec": {
   "display_name": "Python 3",
   "language": "python",
   "name": "python3"
  },
  "language_info": {
   "codemirror_mode": {
    "name": "ipython",
    "version": 3
   },
   "file_extension": ".py",
   "mimetype": "text/x-python",
   "name": "python",
   "nbconvert_exporter": "python",
   "pygments_lexer": "ipython3",
   "version": "3.9.1"
  }
 },
 "nbformat": 4,
 "nbformat_minor": 4
}
