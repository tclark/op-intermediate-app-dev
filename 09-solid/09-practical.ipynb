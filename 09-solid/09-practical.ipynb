{
 "cells": [
  {
   "cell_type": "markdown",
   "metadata": {},
   "source": [
    "##### College of Engineering, Construction and Living Sciences<br>Bachelor of Information Technology<br>IN608: Intermediate Application Development Concepts<br>Level 6, Credits 15<br><br>Due Date: 07/04/2021 at 5pm\n",
    "\n",
    "# SOLID\n",
    "\n",
    "In this practical, you will complete a series of tasks covering today's lecture. This practical is worth 1% of the final mark for the IN608: Intermediate Application Development Concepts course.\n",
    "\n",
    "Before you start, in your practicals repository, create a new branch called **09-practical**."
   ]
  },
  {
   "cell_type": "markdown",
   "metadata": {},
   "source": [
    "Each code block below violates a SOLID principle. At the bottom of each block, identify the principle violated and explain why. The describe in words (not code) what you could do to fix it.\n",
    "\n",
    "Note that there are five principles and five code examples. Coincidence?"
   ]
  },
  {
   "cell_type": "code",
   "execution_count": null,
   "metadata": {},
   "outputs": [],
   "source": [
    "class PostComment:\n",
    "    def __init__(self, blogpost, message):\n",
    "        if message[0] == '#':\n",
    "            # it's a tag\n",
    "            blogpost.add_tag(message)\n",
    "        else:\n",
    "            blogpost.add_comment(message)"
   ]
  },
  {
   "cell_type": "code",
   "execution_count": null,
   "metadata": {},
   "outputs": [],
   "source": [
    "class BlogPost:\n",
    "    def __init__(self, title, author, body):\n",
    "        self.title = title\n",
    "        self.author = author\n",
    "        self.body = body\n",
    "        self._db = Database()\n",
    "        \n",
    "    def save(self):\n",
    "        try:\n",
    "            self._db.save(self)\n",
    "        except DBAPIError as e:\n",
    "            with open(ERRLOG, 'a') as log:\n",
    "                log.write('Error saving blog post:')\n",
    "                log.write(e)\n",
    "\n"
   ]
  },
  {
   "cell_type": "code",
   "execution_count": null,
   "metadata": {},
   "outputs": [],
   "source": [
    "class ProgrammingTeam:\n",
    "    def __init__(self, name, members):\n",
    "        self.name = name\n",
    "        self.members = members\n",
    "        \n",
    "    def add_member(self, new_member):\n",
    "        self.members.append(new_member)\n",
    "        \n",
    "class ProgrammingPair(ProgrammingTeam): \n",
    "    def add_member(self, _):\n",
    "        raise ValueError('Cannot and members to pairs.')\n",
    "        \n",
    "\n"
   ]
  },
  {
   "cell_type": "code",
   "execution_count": null,
   "metadata": {},
   "outputs": [],
   "source": [
    "class BlogPost:\n",
    "    def __init__(self, title, author, body):\n",
    "        self.title = title\n",
    "        self.author = author\n",
    "        self.body = body\n",
    "        self._db = Database()\n",
    "        self.error_log = FileLogger(ERRLOG)\n",
    "        \n",
    "    def save(self):\n",
    "        try:\n",
    "            self._db.save(self)\n",
    "        except DBAPIError as e:\n",
    "            self.error_log.write('Error saving blog post:')\n",
    "            self.error_log.write(e)\n",
    "\n",
    "\n"
   ]
  },
  {
   "cell_type": "code",
   "execution_count": null,
   "metadata": {},
   "outputs": [],
   "source": [
    "class Vehicle:\n",
    "    def __init__(self, num_passengers, engine_type, cargo_volume):\n",
    "        # you know, init stuff...\n",
    "        \n",
    "class Car(Vehicle):\n",
    "    pass\n",
    "\n",
    "class Van(Vehicle):\n",
    "    pass\n",
    "\n",
    "class Motorcyle(Vehicle):\n",
    "    pass\n",
    "\n",
    "class Skateboard(Vehicle):\n",
    "    pass\n",
    "\n"
   ]
  },
  {
   "cell_type": "markdown",
   "metadata": {},
   "source": [
    "# Submission\n",
    "Create a new pull request and assign **tclark** to review your submission.\n",
    "\n",
    "**Note:** Please don't merge your own pull request."
   ]
  }
 ],
 "metadata": {
  "kernelspec": {
   "display_name": "Python 3",
   "language": "python",
   "name": "python3"
  },
  "language_info": {
   "codemirror_mode": {
    "name": "ipython",
    "version": 3
   },
   "file_extension": ".py",
   "mimetype": "text/x-python",
   "name": "python",
   "nbconvert_exporter": "python",
   "pygments_lexer": "ipython3",
   "version": "3.9.1"
  }
 },
 "nbformat": 4,
 "nbformat_minor": 4
}
