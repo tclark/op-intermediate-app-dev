{
 "cells": [
  {
   "cell_type": "markdown",
   "metadata": {},
   "source": [
    "##### College of Engineering, Construction and Living Sciences<br>Bachelor of Information Technology<br>IN608: Intermediate Application Development Concepts<br>Level 6, Credits 15<br><br>Due Date: 12/05/2021 at 5pm\n",
    "\n",
    "# Factory Method and Abstract Factory Pattern\n",
    "\n",
    "In this practical, you will complete a series of tasks covering today's lecture. .\n",
    "\n",
    "Before you start, in your practicals repository, create a new branch called **14-practical**."
   ]
  },
  {
   "cell_type": "markdown",
   "metadata": {},
   "source": [
    "### Factory Method\n",
    "\n",
    "**Question 1:** Using the Factory Method pattern, implement the `StringTransformer` below. "
   ]
  },
  {
   "cell_type": "code",
   "execution_count": null,
   "metadata": {},
   "outputs": [],
   "source": [
    "class StringReverser:\n",
    "    def transform(self, string):\n",
    "        return string[::-1]\n",
    "    \n",
    "class StringStretcher:\n",
    "    def transform(self, string):\n",
    "        return ' '.join(list(s))\n",
    "    \n",
    "class StringTransformer:\n",
    "    def transform(self, string, transform_type):\n",
    "        pass\n",
    "    \n",
    "transformer = StringTransformer()\n",
    "s = 'cats'\n",
    "print(transformer.transform(s, 'reverse'))\n",
    "print(transformer.transform(s, 'stretch'))\n",
    "\n",
    "# expected output\n",
    "# stac\n",
    "# c a t s"
   ]
  },
  {
   "cell_type": "markdown",
   "metadata": {},
   "source": [
    "\n",
    "**Question 2:** Implement the `Calculator` class below using the Factory Method pattern."
   ]
  },
  {
   "cell_type": "code",
   "execution_count": null,
   "metadata": {},
   "outputs": [],
   "source": [
    "\n",
    "\n",
    "calc = Calculator()\n",
    "print(calc.calculate(1, '+', 1))  # should print 2\n",
    "print(calc.calculate(2, '*', 3))  # should print 6\n",
    "print(calc.calculate(4, '-', 3))  # should print 1\n",
    "print(calc.calculate(8, '/', 2))  # should print 4.0"
   ]
  },
  {
   "cell_type": "markdown",
   "metadata": {},
   "source": [
    "## Stop here. We will discuss the answers in class.\n",
    "\n",
    "\n",
    "## <ins>Homework</ins>\n",
    "\n",
    "### Abstract Factory\n",
    "\n",
    "**Question 3:** In lecture we saw the PetFactory abstract class and the DogFactory. Implment a CatFactory below.\n"
   ]
  },
  {
   "cell_type": "code",
   "execution_count": null,
   "metadata": {},
   "outputs": [],
   "source": [
    "from abc import ABC, abstractmethod\n",
    "\n",
    "class Animal(ABC):\n",
    "    pass\n",
    "\n",
    "class PetFood(ABC):\n",
    "    pass\n",
    "\n",
    "class PetToy(ABC):\n",
    "    pass    \n",
    "\n",
    "class PetFactory(ABC):\n",
    "    @abstractmethod\n",
    "    def get_animal(self):\n",
    "        pass\n",
    "\n",
    "    @abstractmethod\n",
    "    def get_pet_food(self):\n",
    "        pass\n",
    "\n",
    "    @abstractmethod\n",
    "    def get_pet_toy(self):\n",
    "        pass"
   ]
  },
  {
   "cell_type": "markdown",
   "metadata": {},
   "source": [
    "**Question 4:** Implement the `StringTransformFactory` using the Abstract Factory pattern.\n"
   ]
  },
  {
   "cell_type": "code",
   "execution_count": null,
   "metadata": {},
   "outputs": [],
   "source": [
    "class StringTransformFactory:\n",
    "    pass\n",
    "\n",
    "\n",
    "\n",
    "stf = StringTransformFactory()\n",
    "reverser = stf.get_reverser()\n",
    "stretcher = stf.get_stretcher()\n",
    "cats = 'cats'\n",
    "print(reverser(cats))\n",
    "print(stretcher(cats))\n",
    "\n",
    "# expected output\n",
    "# stac\n",
    "# c a t s"
   ]
  },
  {
   "cell_type": "markdown",
   "metadata": {},
   "source": [
    "# Submission\n",
    "Create a new pull request and assign **tclark** to review your submission.\n",
    "\n",
    "**Note:** Please don't merge your own pull request."
   ]
  }
 ],
 "metadata": {
  "kernelspec": {
   "display_name": "Python 3",
   "language": "python",
   "name": "python3"
  },
  "language_info": {
   "codemirror_mode": {
    "name": "ipython",
    "version": 3
   },
   "file_extension": ".py",
   "mimetype": "text/x-python",
   "name": "python",
   "nbconvert_exporter": "python",
   "pygments_lexer": "ipython3",
   "version": "3.9.1"
  }
 },
 "nbformat": 4,
 "nbformat_minor": 4
}
