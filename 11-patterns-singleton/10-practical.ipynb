{
 "cells": [
  {
   "cell_type": "markdown",
   "metadata": {},
   "source": [
    "##### College of Engineering, Construction and Living Sciences<br>Bachelor of Information Technology<br>IN608: Intermediate Application Development Concepts<br>Level 6, Credits 15<br><br>Due Date: 12/04/2021 at 5pm\n",
    "\n",
    "# Singleton Pattern\n",
    "\n",
    "In this practical, you will complete a series of tasks covering today's lecture. .\n",
    "\n",
    "Before you start, in your practicals repository, create a new branch called **10-practical**."
   ]
  },
  {
   "cell_type": "markdown",
   "metadata": {},
   "source": [
    "### Singleton class\n",
    "**Question 1:** Implement the RandomNumberGen class as a singelton. It should provide a `number()` method that \n",
    "returns a randomly generated integer.\n"
   ]
  },
  {
   "cell_type": "code",
   "execution_count": null,
   "metadata": {},
   "outputs": [],
   "source": [
    "class RandomNumberGen:\n",
    "    pass\n",
    "\n",
    "rng = RandomNumberGen()\n",
    "print(f'Random number: {rng.number()}')\n",
    "rng1 = RandomNumberGen()\n",
    "print(rng is rng1)\n",
    "\n",
    "# expected output\n",
    "\n",
    "# Random number: 42  (Numbers will vary, you know, randomly.)\n",
    "# True\n"
   ]
  },
  {
   "cell_type": "markdown",
   "metadata": {},
   "source": [
    "## Stop here. We will discuss the answer in class.\n",
    "\n",
    "\n",
    "## <ins>Homework</ins>\n",
    "\n",
    "### Singletons with modules.\n",
    "**Question 2:** Write a module-based implementation of the RandomNumberGen class like the one you wrote above. Name your module file `myrandom.py`.\n",
    "\n",
    "**Question 3:** You wrote a singelton-based implementation of a random number generator for question 2. Now add a RnadomGeneratorPool class to the same module. Instead of always returning the same instance, maintain a pool of up to three instances. Ensure that repeated calls to produce a generator don't just always return the same instance.\n",
    "\n",
    "**Note:** For the above questions, provide a second file `singelton_client.py` that imports your module and demonstrates its use.\n"
   ]
  },
  {
   "cell_type": "markdown",
   "metadata": {},
   "source": [
    "# Submission\n",
    "Create a new pull request and assign **tclark** to review your submission.\n",
    "\n",
    "**Note:** Please don't merge your own pull request."
   ]
  }
 ],
 "metadata": {
  "kernelspec": {
   "display_name": "Python 3",
   "language": "python",
   "name": "python3"
  },
  "language_info": {
   "codemirror_mode": {
    "name": "ipython",
    "version": 3
   },
   "file_extension": ".py",
   "mimetype": "text/x-python",
   "name": "python",
   "nbconvert_exporter": "python",
   "pygments_lexer": "ipython3",
   "version": "3.9.1"
  }
 },
 "nbformat": 4,
 "nbformat_minor": 4
}
