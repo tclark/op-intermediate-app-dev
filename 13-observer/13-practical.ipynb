{
 "cells": [
  {
   "cell_type": "markdown",
   "metadata": {},
   "source": [
    "##### College of Engineering, Construction and Living Sciences<br>Bachelor of Information Technology<br>IN608: Intermediate Application Development Concepts<br>Level 6, Credits 15<br><br>Due Date: 12/05/2021 at 5pm\n",
    "\n",
    "# Observer Pattern\n",
    "\n",
    "In this practical, you will complete a series of tasks covering today's lecture. .\n",
    "\n",
    "Before you start, in your practicals repository, create a new branch called **13-practical**."
   ]
  },
  {
   "cell_type": "markdown",
   "metadata": {},
   "source": [
    "### Basic Observer\n",
    "\n",
    "\n",
    "**Question 1:** Implement the Subject and Observer classes below"
   ]
  },
  {
   "cell_type": "code",
   "execution_count": null,
   "metadata": {},
   "outputs": [],
   "source": [
    "class Observer:\n",
    "    def __init__(self):\n",
    "        pass\n",
    "    \n",
    "    def update(self, subject):\n",
    "        pass\n",
    "    \n",
    "class Subject:\n",
    "    def __init__(self):\n",
    "        pass\n",
    "    \n",
    "    def register(self, observer):\n",
    "        pass\n",
    "    \n",
    "    def unregister(self, observer):\n",
    "        pass\n",
    "    \n",
    "    def notify(self):\n",
    "        pass\n",
    "        \n",
    "sub = Subject()\n",
    "obs1 = Observer()\n",
    "obs2 = Observer()\n",
    "sub.register(obs1)\n",
    "sub.register(obs2)\n",
    "sub.notify()\n",
    "sub.unregister(obs1)\n",
    "sub.notify()\n",
    "\n",
    "# expected output (Order may vary)\n",
    "# Observer 1 notified\n",
    "# Observer 2 notified\n",
    "# Observer 2 notified"
   ]
  },
  {
   "cell_type": "markdown",
   "metadata": {},
   "source": [
    "### A more interesting Subject\n",
    "**Question 2:** Usually a Subject calls its own notify() method when its state changes. Implement that behaviour below"
   ]
  },
  {
   "cell_type": "code",
   "execution_count": null,
   "metadata": {},
   "outputs": [],
   "source": [
    "class Subject:\n",
    "    def __init__self, state):\n",
    "        self._state = state\n",
    "        \n",
    "    @property\n",
    "    def state(self):\n",
    "        return self._state\n",
    "    \n",
    "    @state.setter\n",
    "    def state(self, state):\n",
    "        self._state = state\n",
    "        \n",
    "sub = Subject()\n",
    "obs1 = Observer()\n",
    "obs2 = Observer()\n",
    "sub.register(obs1)\n",
    "sub.register(obs2)\n",
    "sub.state = 'spam'\n",
    "\n",
    "# expected output (Order may vary)\n",
    "# Observer 1 - subject state: spam\n",
    "# Observer 2 - subject state: spam   "
   ]
  },
  {
   "cell_type": "markdown",
   "metadata": {},
   "source": [
    "## Stop here. We will discuss the answer in class.\n",
    "\n",
    "\n",
    "## <ins>Homework</ins>\n",
    "\n",
    "**Question 3:** Write a Subject class with a `_rand_state` attribute. Include a method that sets `_rand_state` to a random number between 0 and 100. Create three Observer objects that can observe your Subject that report the following conditions:\n",
    " * One prints a message any time the Subject's `rand_state` changes.\n",
    " * One prints a message when the Subject's `_rand_state` is set to a value over 80.\n",
    " * One prints a message when the Subject's `_rand_state` is set to a value under 20."
   ]
  },
  {
   "cell_type": "code",
   "execution_count": null,
   "metadata": {},
   "outputs": [],
   "source": []
  },
  {
   "cell_type": "markdown",
   "metadata": {},
   "source": [
    "# Submission\n",
    "Create a new pull request and assign **tclark** to review your submission.\n",
    "\n",
    "**Note:** Please don't merge your own pull request."
   ]
  }
 ],
 "metadata": {
  "kernelspec": {
   "display_name": "Python 3",
   "language": "python",
   "name": "python3"
  },
  "language_info": {
   "codemirror_mode": {
    "name": "ipython",
    "version": 3
   },
   "file_extension": ".py",
   "mimetype": "text/x-python",
   "name": "python",
   "nbconvert_exporter": "python",
   "pygments_lexer": "ipython3",
   "version": "3.9.1"
  }
 },
 "nbformat": 4,
 "nbformat_minor": 4
}
