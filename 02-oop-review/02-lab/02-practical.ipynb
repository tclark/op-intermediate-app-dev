{
 "cells": [
  {
   "cell_type": "markdown",
   "metadata": {},
   "source": [
    "##### College of Engineering, Construction and Living Sciences<br>Bachelor of Information Technology<br>IN608: Intermediate Application Development Concepts<br>Level 6, Credits 15<br><br>\n",
    "\n",
    "# Python 2: OOP Recap\n",
    "\n",
    "In this practical, you will complete a series of tasks covering today's lecture. \n",
    "\n",
    "## <ins>Programming Activity</ins>\n",
    "\n"
   ]
  },
  {
   "cell_type": "markdown",
   "metadata": {},
   "source": [
    "\n",
    "\n",
    "### Encapsulation\n",
    "**Question :** Create a `Dog` class with the private attributes `name`, `age` & `breed`. For each attribute, create a getter & setter using the `@property` decorator. Create a `__str__` special method which returns the following: My `breed`'s name is `name`. S/he is `age` year(s) old.    \n",
    "\n",
    "Create a `main` function with two `Dog` objects. Using setters, change the first `Dog` object's `name` to Fido & `age` to 10. Again, using a setter, change the second `Dog` object's `breed` to poodle. For each `Dog` object, print it's string representation."
   ]
  },
  {
   "cell_type": "code",
   "execution_count": null,
   "metadata": {},
   "outputs": [],
   "source": [
    "# Write your solution here\n",
    "\n",
    "   \n",
    "      "
   ]
  },
  {
   "cell_type": "markdown",
   "metadata": {},
   "source": [
    "### Single Inheritance\n",
    "**Question 2:** Create a `SoftwareDeveloper` & `ProductOwner` class which inherits from `Employee` class. `SoftwareDeveloper` class has one additional attribute called `prog_lang`. `ProductOwner` also has one additional class attribute called `employees` & three methods which add, remove & show all employees managed by the Product Owner. Note: `employees` is a list of `SoftwareDeveloper` objects.\n",
    "\n",
    "Use the three `SoftwareDeveloper` objects & one `ProductOwner` object provided in the `main` function to display the expected output."
   ]
  },
  {
   "cell_type": "code",
   "execution_count": null,
   "metadata": {},
   "outputs": [],
   "source": [
    "class Employee:\n",
    "    def __init__(self, first_name, last_name, salary):\n",
    "        self.first_name = first_name\n",
    "        self.last_name = last_name\n",
    "        self.salary = salary\n",
    "        \n",
    "    def __str__(self):\n",
    "        return f'{self.first_name} {self.last_name}'\n",
    "    \n",
    "# Write your solution here. \n",
    "\n",
    "# Don't modify anything below this line.\n",
    "def main():\n",
    "    sft_dev_one = SoftwareDeveloper('Alfredo', 'Boyle', 50000, 'C#')\n",
    "    sft_dev_two = SoftwareDeveloper('Malik', 'Martin', 55000, 'JavaScript')\n",
    "    sft_dev_three = SoftwareDeveloper('Livia', 'Martin', 75000, 'Kotlin')\n",
    "    prdt_owr = ProductOwner('Lillian', 'Cunningham', 100000, [sft_dev_one, sft_dev_two])\n",
    "    # Add sft_dev_there to the list of employees\n",
    "    prdt_owr.employees.append(sft_dev_three)\n",
    "    # Remove sft_dev_one from the list of employees\n",
    "    prdt_owr.employees.remove(sft_dev_one)\n",
    "    # Hint: Look up Python list methods\n",
    "    prdt_owr.show_employees()\n",
    "\n",
    "if __name__ == '__main__':\n",
    "    main()\n",
    "    \n",
    "# Expected output:\n",
    "\n",
    "# Malik Martin\n",
    "# Livia Martin"
   ]
  },
  {
   "cell_type": "markdown",
   "metadata": {},
   "source": [
    "### Polymorphism\n",
    "**Question 4:** `Language` class has no attributes, but has a method called `good_morning`. `Maori`, `Japanese` & `German` class inherit from `Language` class. When you execute the following code, what is happening & why is it happening? Refactor the code to display the expected output."
   ]
  },
  {
   "cell_type": "code",
   "execution_count": null,
   "metadata": {},
   "outputs": [],
   "source": [
    "# Write your solution here\n",
    "\n",
    "class Language:\n",
    "    def good_morning(self):\n",
    "        raise NotImplementedError\n",
    "\n",
    "class Maori(Language):\n",
    "    pass\n",
    "\n",
    "class Japanese(Language):\n",
    "    pass\n",
    "\n",
    "class German(Language):\n",
    "    pass\n",
    "\n",
    "def main():\n",
    "    maori = Maori()\n",
    "    japanese = Japanese()\n",
    "    german = German()\n",
    "    for lang in (maori, japanese, german):\n",
    "        lang.good_morning()\n",
    "\n",
    "if __name__ == '__main__':\n",
    "    main()\n",
    "\n",
    "# Expected output:\n",
    "\n",
    "# Morena\n",
    "# おはようございます\n",
    "# Guten Morgen\n",
    "\n"
   ]
  },
  {
   "cell_type": "markdown",
   "metadata": {},
   "source": [
    "# Submission\n",
    "Create a new pull request and assign **tclark** to review your practical submission.\n",
    "\n",
    "**Note:** Please don't merge your own pull request."
   ]
  },
  {
   "cell_type": "code",
   "execution_count": null,
   "metadata": {},
   "outputs": [],
   "source": []
  }
 ],
 "metadata": {
  "kernelspec": {
   "display_name": "Python 3",
   "language": "python",
   "name": "python3"
  },
  "language_info": {
   "codemirror_mode": {
    "name": "ipython",
    "version": 3
   },
   "file_extension": ".py",
   "mimetype": "text/x-python",
   "name": "python",
   "nbconvert_exporter": "python",
   "pygments_lexer": "ipython3",
   "version": "3.9.6"
  }
 },
 "nbformat": 4,
 "nbformat_minor": 4
}
