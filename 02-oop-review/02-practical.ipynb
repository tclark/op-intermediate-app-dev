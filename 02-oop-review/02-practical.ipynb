{
 "cells": [
  {
   "cell_type": "markdown",
   "metadata": {},
   "source": [
    "##### College of Engineering, Construction and Living Sciences<br>Bachelor of Information Technology<br>IN608: Intermediate Application Development Concepts<br>Level 6, Credits 15<br><br>Due Date: 10/03/2021 at 5pm\n",
    "\n",
    "# Python 2: Data Types \n",
    "\n",
    "In this practical, you will complete a series of tasks covering today's lecture. This practical is worth 0.5% of the final mark for the IN608: Intermediate Application Development Concepts course.\n",
    "\n",
    "Before you start, in your practicals repository, create a new branch called **02-practical**.\n",
    "\n",
    "## <ins>Programming Activity</ins>\n",
    "\n",
    "**Question 1:** Consider the strings below. Run the code in this cell after you have made a prediction about what will happen."
   ]
  },
  {
   "cell_type": "code",
   "execution_count": null,
   "metadata": {},
   "outputs": [],
   "source": [
    "st1 = \"Spam, spam, spam\"\n",
    "st2 = st1\n",
    "\n",
    "print(st1 == st2)\n",
    "print(st1 is st2)\n",
    "\n",
    "###\n",
    "st3 = 'a'\n",
    "st4 = 'a'\n",
    "\n",
    "print(st3 == st4)\n",
    "print(st3 is st4)\n",
    "\n",
    "###\n",
    "st5 = 'aaaaaaaaaaaaaaaaaaaaaaaaaaaaaaaaaaa'\n",
    "st6 = 'aaaaaaaaaaaaaaaaaaaaaaaaaaaaaaaaaaa'\n",
    "\n",
    "print(st5 == st6)\n",
    "print(st5 is st6)\n",
    "\n",
    "# Before you run this cell, what do you think will happen? \n",
    "\n",
    "# Expected output? Why?\n"
   ]
  },
  {
   "cell_type": "markdown",
   "metadata": {},
   "source": [
    "\n",
    "**Question 2:** Basically the same, but with lists"
   ]
  },
  {
   "cell_type": "code",
   "execution_count": null,
   "metadata": {},
   "outputs": [],
   "source": [
    "l1 = [1, 2, 3]\n",
    "l2 = [1, 2, 3]\n",
    "\n",
    "print(l1 == l2)\n",
    "print(l1 is l2)\n",
    "\n",
    "\n",
    "# What is your expected output:\n",
    "\n",
    "# What is the key difference between the results of questions 1 and 2? Why is this happening?"
   ]
  },
  {
   "cell_type": "markdown",
   "metadata": {},
   "source": [
    "### \n",
    "**Question 3:** Write a class, `Person` with one attribute, `name`. Create two distinct person objects with the exact same value for their names. Compare the two objects with \"is\" and \"==\". What do you think will happen? What would you like to have happen if it was up to you?"
   ]
  },
  {
   "cell_type": "code",
   "execution_count": null,
   "metadata": {},
   "outputs": [],
   "source": [
    "\n",
    "# Write your solution here\n",
    "\n"
   ]
  },
  {
   "cell_type": "markdown",
   "metadata": {},
   "source": [
    "### Stop here. We will discuss answers in class. ###\n",
    "\n",
    "### Homework ###\n",
    "\n",
    "### List\n",
    "**Question 4:** You have been given two lists containing some of our favourite programming languages. Use the append, extend & remove list methods to display the expected output.\n"
   ]
  },
  {
   "cell_type": "code",
   "execution_count": null,
   "metadata": {},
   "outputs": [],
   "source": [
    "prog_lang_one = ['C#', 'JavaScript', 'Kotlin', 'Python']\n",
    "prog_lang_two = ['C++', 'Go', 'Java', 'Swift']\n",
    "\n",
    "# Write your solution here\n",
    "\n",
    "# Expected output:\n",
    "# ['C#', 'JavaScript', 'Kotlin', 'Python', 'TypeScript', 'C++', 'Go', 'Java']\n",
    "\n",
    "\n"
   ]
  },
  {
   "cell_type": "markdown",
   "metadata": {},
   "source": [
    "### Tuple\n",
    "**Question 5:** You have been given a tuple containing three lists. Using the tuple `count` method, display the number of occurrences of the letter a in each list.\n"
   ]
  },
  {
   "cell_type": "code",
   "execution_count": null,
   "metadata": {},
   "outputs": [],
   "source": [
    "fruits = (\n",
    "    ['a', 'p', 'p', 'l', 'e'],\n",
    "    ['b', 'a', 'n', 'a', 'n', 'a'],\n",
    "    ['m', 'a', 'n', 'd', 'a', 'r', 'i', 'n']\n",
    ")\n",
    "\n",
    "# Write your solution here\n",
    "\n",
    "# Expected output:\n",
    "# 1\n",
    "# 3\n",
    "# 2\n",
    "\n"
   ]
  },
  {
   "cell_type": "markdown",
   "metadata": {},
   "source": [
    "### Set\n",
    "**Question 6:** You have been given two sets containing BIT courses. Use the following hints to display the expected output:\n",
    "* Use the set method which returns the difference of two or more sets as a new set\n",
    "* Use the set method which returns the union of sets as a new set"
   ]
  },
  {
   "cell_type": "code",
   "execution_count": null,
   "metadata": {},
   "outputs": [],
   "source": [
    "courses_one = {'Intro App Dev Concepts', 'Programming 2', 'Studio 1', 'Sys Admin'}\n",
    "courses_two = {'Int App Dev Concepts', 'Mobile App Dev', 'Studio 1', 'Sys Admin'}\n",
    "\n",
    "# Write your solution here\n",
    "\n",
    "# Expected output:\n",
    "# {'Intro App Dev Concepts', 'Programming 2'}\n",
    "# {'Sys Admin', 'Programming 2', 'Intro App Dev Concepts', 'Mobile App Dev', 'Studio 1', 'Int App Dev Concepts'}"
   ]
  },
  {
   "cell_type": "markdown",
   "metadata": {},
   "source": [
    "### Dictionary\n",
    "**Question 7:** You have been given a dictionary containing soft drink names & prices. Use the following hints to display the expected output:\n",
    "* For each value in `soft_drinks`, add the value to `total_price`\n",
    "* For each key in `soft_drinks`, if the key equals `sprite`, delete it from `soft_drinks`"
   ]
  },
  {
   "cell_type": "code",
   "execution_count": null,
   "metadata": {},
   "outputs": [],
   "source": [
    "soft_drinks = {'coca-cola': 2.00, 'fanta': 0.90, 'sprite': 1.10}\n",
    "total_price = 0.00\n",
    "\n",
    "# Write your solution here\n",
    "\n",
    "print(f'Total price: {total_price}')\n",
    "print(soft_drinks)\n",
    "\n",
    "# Expected output:\n",
    "\n",
    "# Total price: 4.0\n",
    "# {'coca-cola': 2.00, 'fanta': 0.90}"
   ]
  },
  {
   "cell_type": "markdown",
   "metadata": {},
   "source": [
    "### List\n",
    "**Question 8:** Describe & show an example of the application of the following list methods:\n",
    "* copy\n",
    "* index\n",
    "\n",
    "* pop\n",
    "* reverse\n",
    "* sort"
   ]
  },
  {
   "cell_type": "code",
   "execution_count": null,
   "metadata": {},
   "outputs": [],
   "source": [
    "# Write your solution here"
   ]
  },
  {
   "cell_type": "markdown",
   "metadata": {},
   "source": [
    "### Tuple\n",
    "**Question 9:** Describe & show an example of the application of the tuple's `index` method."
   ]
  },
  {
   "cell_type": "code",
   "execution_count": null,
   "metadata": {},
   "outputs": [],
   "source": [
    "# Write your solution here"
   ]
  },
  {
   "cell_type": "markdown",
   "metadata": {},
   "source": [
    "### Set\n",
    "**Question 10:** Describe & show an example of the application of the following set methods:\n",
    "* add\n",
    "* discard\n",
    "* intersection\n",
    "* isdisjoint\n",
    "* remove"
   ]
  },
  {
   "cell_type": "code",
   "execution_count": null,
   "metadata": {},
   "outputs": [],
   "source": [
    "# Write your solution here"
   ]
  },
  {
   "cell_type": "markdown",
   "metadata": {},
   "source": [
    "### Dictionary\n",
    "**Question 11:** Describe & show an example of the application of the following dictionary methods:\n",
    "* items\n",
    "* fromkeys\n",
    "* popitem\n",
    "* update\n",
    "* values"
   ]
  },
  {
   "cell_type": "code",
   "execution_count": null,
   "metadata": {},
   "outputs": [],
   "source": [
    "# Write your solution here"
   ]
  },
  {
   "cell_type": "markdown",
   "metadata": {},
   "source": [
    "# Submission\n",
    "Create a new pull request and assign **tclark** to review your practical submission.\n",
    "\n",
    "**Note:** Please don't merge your own pull request."
   ]
  }
 ],
 "metadata": {
  "kernelspec": {
   "display_name": "Python 3",
   "language": "python",
   "name": "python3"
  },
  "language_info": {
   "codemirror_mode": {
    "name": "ipython",
    "version": 3
   },
   "file_extension": ".py",
   "mimetype": "text/x-python",
   "name": "python",
   "nbconvert_exporter": "python",
   "pygments_lexer": "ipython3",
   "version": "3.9.1"
  }
 },
 "nbformat": 4,
 "nbformat_minor": 4
}
