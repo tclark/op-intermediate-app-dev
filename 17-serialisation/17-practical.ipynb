{
 "cells": [
  {
   "cell_type": "markdown",
   "metadata": {},
   "source": [
    "##### College of Engineering, Construction and Living Sciences<br>Bachelor of Information Technology<br>IN608: Intermediate Application Development Concepts<br>Level 6, Credits 15<br><br>Due Date: 24/05/2021 at 5pm\n",
    "\n",
    "# Serialisation\n",
    "\n",
    "In this practical, you will complete a series of tasks covering today's lecture. \n",
    "\n",
    "Before you start, in your practicals repository, create a new branch called **17-practical**."
   ]
  },
  {
   "cell_type": "markdown",
   "metadata": {},
   "source": [
    "**Question 1:**  Below are four example Python values. Use `pickle.dumps()` to serialise their data to a byte string. Then use `pickle.loads()` to restore their values."
   ]
  },
  {
   "cell_type": "code",
   "execution_count": null,
   "metadata": {},
   "outputs": [],
   "source": [
    "import pickle\n",
    "\n",
    "a_num = 42\n",
    "a_str = 'spam'\n",
    "a_dict = {'a': 1, 'b': 7}\n",
    "\n",
    "class MyClass:\n",
    "    def __init__(self, data):\n",
    "        self.data = data\n",
    "    \n",
    "    def __str__(self):\n",
    "        return str(self.data)\n",
    "\n",
    "an_obj = MyClass('hello')\n",
    "\n",
    "# Pickle these values below with pickle.dumps()\n",
    "\n",
    "\n",
    "a_num, a_str, a_dict, an_obj = None, None, None, None\n",
    "\n",
    "# Now unpickle the pickled data\n",
    "\n",
    "print(a_num)\n",
    "print(a_str)\n",
    "print(a_dict)\n",
    "print(an_obj)\n",
    "# Expected output:\n",
    "# 42\n",
    "# spam\n",
    "# {'a': 1, 'b': 7}\n",
    "# hello"
   ]
  },
  {
   "cell_type": "markdown",
   "metadata": {},
   "source": [
    "**Question 2:**  You can't pickle everything. What happens when you try to pickle the values below? Why can't they be pickled?"
   ]
  },
  {
   "cell_type": "code",
   "execution_count": null,
   "metadata": {},
   "outputs": [],
   "source": [
    "fobj = open('file', 'w')\n",
    "fn = lambda x: x + 2\n",
    "\n"
   ]
  },
  {
   "cell_type": "markdown",
   "metadata": {},
   "source": [
    "**Question 3:**  Create an instance of `MyClass` and use `pickle.dump()` to save it to a file. Verify that the file is created."
   ]
  },
  {
   "cell_type": "code",
   "execution_count": null,
   "metadata": {},
   "outputs": [],
   "source": [
    "\n"
   ]
  },
  {
   "cell_type": "markdown",
   "metadata": {},
   "source": [
    "## Stop here. We will discuss the answers in class.\n",
    "\n",
    "\n",
    "## <ins>Homework</ins>\n",
    "\n",
    "**Question 4:** For the `SerialiseMe` class below:\n",
    "  * Write a custom JSONEncoder that can be used with `json.dumps()` to serialise objects of this type to JSON.\n",
    "  * Write a marshmallow schema and use it to serialise and deserialise objects of this type. Note that these produce and \n",
    "  read dictionaries, not JSON strings (but the dictionaries are easily converted to/from JSON).\n"
   ]
  },
  {
   "cell_type": "code",
   "execution_count": null,
   "metadata": {},
   "outputs": [],
   "source": [
    "import json\n",
    "from marshmallow import Schema, fields # you will need to pip install marshmallow\n",
    "\n",
    "class SerialiseMe:\n",
    "    def __init__(self, my_str, my_int, my_bool):\n",
    "        self.my_str = my_str\n",
    "        self.my_int = my_int\n",
    "        self.my_bool = my_bool\n",
    "\n",
    "sample = SerialiseMe('spam', 42, False)        \n",
    "        \n"
   ]
  },
  {
   "cell_type": "markdown",
   "metadata": {},
   "source": [
    "# Submission\n",
    "Create a new pull request and assign **tclark** to review your submission.\n",
    "\n",
    "**Note:** Please don't merge your own pull request."
   ]
  }
 ],
 "metadata": {
  "kernelspec": {
   "display_name": "Python 3",
   "language": "python",
   "name": "python3"
  },
  "language_info": {
   "codemirror_mode": {
    "name": "ipython",
    "version": 3
   },
   "file_extension": ".py",
   "mimetype": "text/x-python",
   "name": "python",
   "nbconvert_exporter": "python",
   "pygments_lexer": "ipython3",
   "version": "3.9.5"
  }
 },
 "nbformat": 4,
 "nbformat_minor": 4
}
